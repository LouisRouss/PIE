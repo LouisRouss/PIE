{
 "cells": [
  {
   "cell_type": "code",
   "execution_count": 1,
   "metadata": {},
   "outputs": [],
   "source": [
    "import functions.data_utilities as data_u"
   ]
  },
  {
   "cell_type": "code",
   "execution_count": 2,
   "metadata": {},
   "outputs": [],
   "source": [
    "import pandas as pd\n",
    "import numpy as np\n",
    "import pickle\n",
    "import os\n",
    "import functions.data_utilities as data_u\n",
    "import functions.dict_utilities as dict_u\n",
    "import functions.nlp_utilities as nlp_u\n",
    "import time\n",
    "\n",
    "#from jupyterthemes import jtplot\n",
    "#jtplot.style()\n",
    "%load_ext autoreload\n",
    "%autoreload 2\n",
    "%matplotlib inline\n",
    "\n",
    "data_folder = '../data/'\n",
    "dict_dir = data_folder + 'data_dict.pkl'"
   ]
  },
  {
   "cell_type": "code",
   "execution_count": 3,
   "metadata": {},
   "outputs": [],
   "source": [
    "data_folder = 'data/'\n",
    "dict_dir = data_folder + 'data_dict.pkl'"
   ]
  },
  {
   "cell_type": "code",
   "execution_count": 4,
   "metadata": {},
   "outputs": [
    {
     "name": "stdout",
     "output_type": "stream",
     "text": [
      "Tickers added : dict_keys(['google', 'exxon'])\n",
      "\n",
      "Number of news in ticker Google : 3608\n",
      "Wall time: 28min 54s\n"
     ]
    }
   ],
   "source": [
    "%%time\n",
    "search_words = ['Google', 'Exxon']\n",
    "news_to_read = \"Reuters\"\n",
    "data_u.add_news_to_dict(search_words, data_folder, news_to_read, dict_dir)\n",
    "data_dict = dict_u.get_dict(dict_dir)\n",
    "print(f\"Tickers added : {data_dict.keys()}\\n\")\n",
    "print(f\"Number of news in ticker {search_words[0]} : {len(data_dict[search_words[0].lower()])}\")"
   ]
  },
  {
   "cell_type": "code",
   "execution_count": 14,
   "metadata": {},
   "outputs": [
    {
     "data": {
      "text/html": [
       "<div>\n",
       "<style scoped>\n",
       "    .dataframe tbody tr th:only-of-type {\n",
       "        vertical-align: middle;\n",
       "    }\n",
       "\n",
       "    .dataframe tbody tr th {\n",
       "        vertical-align: top;\n",
       "    }\n",
       "\n",
       "    .dataframe thead th {\n",
       "        text-align: right;\n",
       "    }\n",
       "</style>\n",
       "<table border=\"1\" class=\"dataframe\">\n",
       "  <thead>\n",
       "    <tr style=\"text-align: right;\">\n",
       "      <th></th>\n",
       "      <th>Text</th>\n",
       "      <th>Author</th>\n",
       "      <th>Date</th>\n",
       "      <th>Label</th>\n",
       "    </tr>\n",
       "  </thead>\n",
       "  <tbody>\n",
       "    <tr>\n",
       "      <th>0</th>\n",
       "      <td>ANCHORAGE, Alaska  (Reuters) - Exxon Mobil ( X...</td>\n",
       "      <td>[Yereth Rosen]</td>\n",
       "      <td>2006-10-20 06:15:00</td>\n",
       "      <td>-6.256256</td>\n",
       "    </tr>\n",
       "    <tr>\n",
       "      <th>15</th>\n",
       "      <td>NEW YORK  (Reuters) - U.S. stocks should exten...</td>\n",
       "      <td>[ers, Chris S]</td>\n",
       "      <td>2006-10-23 05:24:00</td>\n",
       "      <td>-14.304306</td>\n",
       "    </tr>\n",
       "    <tr>\n",
       "      <th>16</th>\n",
       "      <td>CALGARY/LONDON  (Reuters) - Royal Dutch Shell ...</td>\n",
       "      <td>[Tom Bergin, Scott Haggett]</td>\n",
       "      <td>2006-10-23 04:34:00</td>\n",
       "      <td>-14.304306</td>\n",
       "    </tr>\n",
       "    <tr>\n",
       "      <th>89</th>\n",
       "      <td>YUZHNO-SAKHALINSK, Russia  (Reuters) - Russian...</td>\n",
       "      <td>[Mikhail Yenukov]</td>\n",
       "      <td>2006-10-25 11:31:00</td>\n",
       "      <td>-7.402420</td>\n",
       "    </tr>\n",
       "    <tr>\n",
       "      <th>96</th>\n",
       "      <td>NEW YORK  (Reuters) - U.S. stocks rose on Wedn...</td>\n",
       "      <td>[Vivianne Rodrigues]</td>\n",
       "      <td>2006-10-25 06:35:00</td>\n",
       "      <td>-7.402420</td>\n",
       "    </tr>\n",
       "    <tr>\n",
       "      <th>...</th>\n",
       "      <td>...</td>\n",
       "      <td>...</td>\n",
       "      <td>...</td>\n",
       "      <td>...</td>\n",
       "    </tr>\n",
       "    <tr>\n",
       "      <th>106176</th>\n",
       "      <td>LONDON  (Reuters) - U.S. refiners are expected...</td>\n",
       "      <td>[Ron Bousso]</td>\n",
       "      <td>2013-11-13 11:25:00</td>\n",
       "      <td>-8.974030</td>\n",
       "    </tr>\n",
       "    <tr>\n",
       "      <th>106283</th>\n",
       "      <td>(Reuters) - Warren Buffett's Berkshire Hathawa...</td>\n",
       "      <td>[Luciana Lopez, Jonathan Stempel]</td>\n",
       "      <td>2013-11-14 07:52:00</td>\n",
       "      <td>-2.217163</td>\n",
       "    </tr>\n",
       "    <tr>\n",
       "      <th>106428</th>\n",
       "      <td>HONG KONG  (Reuters) - Exxon Mobil Corp ( XOM....</td>\n",
       "      <td>[Charlie Zhu, Denny Thomas]</td>\n",
       "      <td>2013-11-19 12:49:00</td>\n",
       "      <td>1.731781</td>\n",
       "    </tr>\n",
       "    <tr>\n",
       "      <th>106446</th>\n",
       "      <td>NEW YORK  (Reuters) - Short-seller Jim Chanos ...</td>\n",
       "      <td>[Ernest Scheyder, Katya Wachtel]</td>\n",
       "      <td>2013-11-19 03:04:00</td>\n",
       "      <td>1.731781</td>\n",
       "    </tr>\n",
       "    <tr>\n",
       "      <th>106448</th>\n",
       "      <td>LONDON  (Reuters) - Iraq's oil industry is poi...</td>\n",
       "      <td>[Alex Lawler, Peg Mackey]</td>\n",
       "      <td>2013-11-19 11:48:00</td>\n",
       "      <td>1.731781</td>\n",
       "    </tr>\n",
       "  </tbody>\n",
       "</table>\n",
       "<p>1486 rows × 4 columns</p>\n",
       "</div>"
      ],
      "text/plain": [
       "                                                     Text  \\\n",
       "0       ANCHORAGE, Alaska  (Reuters) - Exxon Mobil ( X...   \n",
       "15      NEW YORK  (Reuters) - U.S. stocks should exten...   \n",
       "16      CALGARY/LONDON  (Reuters) - Royal Dutch Shell ...   \n",
       "89      YUZHNO-SAKHALINSK, Russia  (Reuters) - Russian...   \n",
       "96      NEW YORK  (Reuters) - U.S. stocks rose on Wedn...   \n",
       "...                                                   ...   \n",
       "106176  LONDON  (Reuters) - U.S. refiners are expected...   \n",
       "106283  (Reuters) - Warren Buffett's Berkshire Hathawa...   \n",
       "106428  HONG KONG  (Reuters) - Exxon Mobil Corp ( XOM....   \n",
       "106446  NEW YORK  (Reuters) - Short-seller Jim Chanos ...   \n",
       "106448  LONDON  (Reuters) - Iraq's oil industry is poi...   \n",
       "\n",
       "                                   Author                Date      Label  \n",
       "0                          [Yereth Rosen] 2006-10-20 06:15:00  -6.256256  \n",
       "15                         [ers, Chris S] 2006-10-23 05:24:00 -14.304306  \n",
       "16            [Tom Bergin, Scott Haggett] 2006-10-23 04:34:00 -14.304306  \n",
       "89                      [Mikhail Yenukov] 2006-10-25 11:31:00  -7.402420  \n",
       "96                   [Vivianne Rodrigues] 2006-10-25 06:35:00  -7.402420  \n",
       "...                                   ...                 ...        ...  \n",
       "106176                       [Ron Bousso] 2013-11-13 11:25:00  -8.974030  \n",
       "106283  [Luciana Lopez, Jonathan Stempel] 2013-11-14 07:52:00  -2.217163  \n",
       "106428        [Charlie Zhu, Denny Thomas] 2013-11-19 12:49:00   1.731781  \n",
       "106446   [Ernest Scheyder, Katya Wachtel] 2013-11-19 03:04:00   1.731781  \n",
       "106448          [Alex Lawler, Peg Mackey] 2013-11-19 11:48:00   1.731781  \n",
       "\n",
       "[1486 rows x 4 columns]"
      ]
     },
     "execution_count": 14,
     "metadata": {},
     "output_type": "execute_result"
    }
   ],
   "source": [
    "data_dict[\"exxon\"]"
   ]
  },
  {
   "cell_type": "code",
   "execution_count": 17,
   "metadata": {},
   "outputs": [
    {
     "data": {
      "text/plain": [
       "Date\n",
       "2010-06-29      4.778000\n",
       "2010-06-30      4.766000\n",
       "2010-07-01      4.392000\n",
       "2010-07-02      3.840000\n",
       "2010-07-06      3.222000\n",
       "                 ...    \n",
       "2021-02-08    863.419983\n",
       "2021-02-09    849.460022\n",
       "2021-02-10    804.820007\n",
       "2021-02-11    811.659973\n",
       "2021-02-12    816.119995\n",
       "Name: Close, Length: 2676, dtype: float64"
      ]
     },
     "execution_count": 17,
     "metadata": {},
     "output_type": "execute_result"
    }
   ],
   "source": [
    "data_u.retrieve_data_from_yahoo_finance('TSLA')"
   ]
  },
  {
   "cell_type": "code",
   "execution_count": null,
   "metadata": {},
   "outputs": [],
   "source": []
  }
 ],
 "metadata": {
  "kernelspec": {
   "display_name": "Python 3",
   "language": "python",
   "name": "python3"
  },
  "language_info": {
   "codemirror_mode": {
    "name": "ipython",
    "version": 3
   },
   "file_extension": ".py",
   "mimetype": "text/x-python",
   "name": "python",
   "nbconvert_exporter": "python",
   "pygments_lexer": "ipython3",
   "version": "3.8.3"
  }
 },
 "nbformat": 4,
 "nbformat_minor": 4
}
